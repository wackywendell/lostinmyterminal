{
 "cells": [
  {
   "cell_type": "code",
   "execution_count": 1,
   "metadata": {
    "collapsed": true
   },
   "outputs": [],
   "source": [
    "import numpy as np"
   ]
  },
  {
   "cell_type": "code",
   "execution_count": 19,
   "metadata": {
    "collapsed": true
   },
   "outputs": [],
   "source": [
    "a = np.array([[-1,-1], [0,0.1], [1, 1.6]])"
   ]
  },
  {
   "cell_type": "code",
   "execution_count": 20,
   "metadata": {
    "collapsed": false
   },
   "outputs": [
    {
     "data": {
      "text/plain": [
       "(3, 2)"
      ]
     },
     "execution_count": 20,
     "metadata": {},
     "output_type": "execute_result"
    }
   ],
   "source": [
    "a.shape"
   ]
  },
  {
   "cell_type": "code",
   "execution_count": 21,
   "metadata": {
    "collapsed": false
   },
   "outputs": [],
   "source": [
    "outered = np.subtract.outer(a,a)"
   ]
  },
  {
   "cell_type": "code",
   "execution_count": 30,
   "metadata": {
    "collapsed": false
   },
   "outputs": [
    {
     "data": {
      "text/plain": [
       "array([[ 0., -1., -2.],\n",
       "       [ 1.,  0., -1.],\n",
       "       [ 2.,  1.,  0.]])"
      ]
     },
     "execution_count": 30,
     "metadata": {},
     "output_type": "execute_result"
    }
   ],
   "source": [
    "a1, a2 = list(a.T)\n",
    "np.subtract.outer(a1, a1)"
   ]
  },
  {
   "cell_type": "code",
   "execution_count": 97,
   "metadata": {
    "collapsed": false
   },
   "outputs": [],
   "source": [
    "np.outer?"
   ]
  },
  {
   "cell_type": "code",
   "execution_count": 148,
   "metadata": {
    "collapsed": true
   },
   "outputs": [],
   "source": [
    "def dists(rs, L):\n",
    "    \"\"\"\n",
    "    Returns the difference vectors between all pairs of points in rs, given a periodic box of size L.\n",
    "    \n",
    "    Parameters\n",
    "    ----------\n",
    "    rs : (N,d) array_like\n",
    "         Input vectors\n",
    "    L : (d,) array_like, or scalar\n",
    "    Size of the box\n",
    "    \n",
    "    Returns\n",
    "    -------\n",
    "    out : (N,N,d) ndarray\n",
    "    Where out[i,j,:] is the difference vector between rs[i,:] and rs[j,:]\n",
    "    \"\"\"\n",
    "    diffs = np.array([np.subtract.outer(rd, rd) for rd in rs.T]).T\n",
    "    return np.remainder(diffs + L/2., L) - L/2."
   ]
  },
  {
   "cell_type": "code",
   "execution_count": 99,
   "metadata": {
    "collapsed": false
   },
   "outputs": [
    {
     "name": "stdout",
     "output_type": "stream",
     "text": [
      "(3, 3, 2)\n"
     ]
    },
    {
     "data": {
      "text/plain": [
       "array([[[ 0. ,  0. ],\n",
       "        [ 0. ,  0.1],\n",
       "        [ 0. , -0.4]],\n",
       "\n",
       "       [[ 0. , -0.1],\n",
       "        [ 0. ,  0. ],\n",
       "        [ 0. , -0.5]],\n",
       "\n",
       "       [[ 0. ,  0.4],\n",
       "        [ 0. , -0.5],\n",
       "        [ 0. ,  0. ]]])"
      ]
     },
     "execution_count": 99,
     "metadata": {},
     "output_type": "execute_result"
    }
   ],
   "source": [
    "d = dists(a, 1.0)\n",
    "print(d.shape)\n",
    "d"
   ]
  },
  {
   "cell_type": "code",
   "execution_count": 145,
   "metadata": {
    "collapsed": false
   },
   "outputs": [
    {
     "data": {
      "text/plain": [
       "0.78602996254681645"
      ]
     },
     "execution_count": 145,
     "metadata": {},
     "output_type": "execute_result"
    }
   ],
   "source": [
    "N, L = 800, 2\n",
    "d = np.random.uniform(high=L, size=(N,2))\n",
    "dfs = dists(d, L)\n",
    "drs = np.sqrt(np.sum(dfs**2, axis=-1))\n",
    "np.sum(drs[np.triu_indices_from(drs)] < 1) / (N*(N+1)//2)"
   ]
  },
  {
   "cell_type": "code",
   "execution_count": 67,
   "metadata": {
    "collapsed": false
   },
   "outputs": [
    {
     "data": {
      "text/plain": [
       "(55,)"
      ]
     },
     "execution_count": 67,
     "metadata": {},
     "output_type": "execute_result"
    }
   ],
   "source": [
    "drs[np.triu_indices_from(drs)].shape"
   ]
  },
  {
   "cell_type": "code",
   "execution_count": 103,
   "metadata": {
    "collapsed": false
   },
   "outputs": [
    {
     "data": {
      "text/plain": [
       "array([ 0.,  0.,  0.,  0.,  0.,  0.,  0.,  0.,  0.,  0.])"
      ]
     },
     "execution_count": 103,
     "metadata": {},
     "output_type": "execute_result"
    }
   ],
   "source": [
    "np.zeros(10)"
   ]
  },
  {
   "cell_type": "code",
   "execution_count": 144,
   "metadata": {
    "collapsed": false
   },
   "outputs": [],
   "source": [
    "%%timeit -n 1 -r 1\n",
    "N = 200\n",
    "d = 3\n",
    "L = 2.0\n",
    "Nruns = 500\n",
    "\n",
    "in_disk = np.zeros(Nruns)\n",
    "for i in range(Nruns):\n",
    "    rs = np.random.uniform(size=(N,d), high=(L*2))\n",
    "    diffs = dists(rs, L)\n",
    "    drs = np.sqrt(np.sum(diffs**2, axis=-1))\n",
    "    #in_disk[i] = np.sum(drs[np.triu_indices_from(drs)] < 1)\n",
    "    in_disk[i] = (np.sum(drs < 1) - N) / 2"
   ]
  },
  {
   "cell_type": "code",
   "execution_count": 149,
   "metadata": {
    "collapsed": false
   },
   "outputs": [],
   "source": [
    "def dists2(rs, L):\n",
    "    \"\"\"\n",
    "    Returns the difference vectors between all pairs of points in rs, given a periodic box of size L.\n",
    "    \n",
    "    Parameters\n",
    "    ----------\n",
    "    rs : (N,d) array_like\n",
    "         Input vectors\n",
    "    L : (d,) array_like, or scalar\n",
    "    Size of the box\n",
    "    \n",
    "    Returns\n",
    "    -------\n",
    "    out : (N,N,d) ndarray\n",
    "    Where out[i,j,:] is the difference vector between rs[i,:] and rs[j,:]\n",
    "    \"\"\"\n",
    "    N,d = np.shape(rs)\n",
    "    diffs = np.zeros((N,N,d))\n",
    "    for i,rd in enumerate(rs.T):\n",
    "        np.subtract.outer(rd, rd, out=diffs[:,:,i])\n",
    "    return np.remainder(diffs + L/2., L) - L/2."
   ]
  },
  {
   "cell_type": "code",
   "execution_count": 154,
   "metadata": {
    "collapsed": false,
    "scrolled": true
   },
   "outputs": [
    {
     "name": "stdout",
     "output_type": "stream",
     "text": [
      "1000 loops, best of 3: 2.63 ms per loop\n"
     ]
    }
   ],
   "source": [
    "%%timeit rs = np.random.uniform(size=(100,3), high=(4.0))\n",
    "diffs = dists(rs, 2.0)"
   ]
  },
  {
   "cell_type": "code",
   "execution_count": 143,
   "metadata": {
    "collapsed": false
   },
   "outputs": [
    {
     "data": {
      "text/plain": [
       "array([[[ 0.        ,  0.        ,  0.        ],\n",
       "        [ 0.67767265,  0.27251136,  0.69346879],\n",
       "        [ 0.08837079,  0.98017716, -0.7722809 ],\n",
       "        ..., \n",
       "        [-0.3291995 , -0.19736187, -0.57391698],\n",
       "        [ 0.24014932, -0.94804328, -0.53381377],\n",
       "        [ 0.36993133,  0.78150857, -0.01996707]],\n",
       "\n",
       "       [[-0.67767265, -0.27251136, -0.69346879],\n",
       "        [ 0.        ,  0.        ,  0.        ],\n",
       "        [-0.58930186,  0.7076658 ,  0.53425031],\n",
       "        ..., \n",
       "        [ 0.99312785, -0.46987323,  0.73261422],\n",
       "        [-0.43752333,  0.77944536,  0.77271744],\n",
       "        [-0.30774133,  0.50899721, -0.71343586]],\n",
       "\n",
       "       [[-0.08837079, -0.98017716,  0.7722809 ],\n",
       "        [ 0.58930186, -0.7076658 , -0.53425031],\n",
       "        [ 0.        ,  0.        ,  0.        ],\n",
       "        ..., \n",
       "        [-0.41757029,  0.82246098,  0.19836392],\n",
       "        [ 0.15177853,  0.07177956,  0.23846713],\n",
       "        [ 0.28156053, -0.19866859,  0.75231383]],\n",
       "\n",
       "       ..., \n",
       "       [[ 0.3291995 ,  0.19736187,  0.57391698],\n",
       "        [-0.99312785,  0.46987323, -0.73261422],\n",
       "        [ 0.41757029, -0.82246098, -0.19836392],\n",
       "        ..., \n",
       "        [ 0.        ,  0.        ,  0.        ],\n",
       "        [ 0.56934882, -0.75068142,  0.04010321],\n",
       "        [ 0.69913082,  0.97887043,  0.55394991]],\n",
       "\n",
       "       [[-0.24014932,  0.94804328,  0.53381377],\n",
       "        [ 0.43752333, -0.77944536, -0.77271744],\n",
       "        [-0.15177853, -0.07177956, -0.23846713],\n",
       "        ..., \n",
       "        [-0.56934882,  0.75068142, -0.04010321],\n",
       "        [ 0.        ,  0.        ,  0.        ],\n",
       "        [ 0.129782  , -0.27044815,  0.5138467 ]],\n",
       "\n",
       "       [[-0.36993133, -0.78150857,  0.01996707],\n",
       "        [ 0.30774133, -0.50899721,  0.71343586],\n",
       "        [-0.28156053,  0.19866859, -0.75231383],\n",
       "        ..., \n",
       "        [-0.69913082, -0.97887043, -0.55394991],\n",
       "        [-0.129782  ,  0.27044815, -0.5138467 ],\n",
       "        [ 0.        ,  0.        ,  0.        ]]])"
      ]
     },
     "execution_count": 143,
     "metadata": {},
     "output_type": "execute_result"
    }
   ],
   "source": [
    "diffs"
   ]
  }
 ],
 "metadata": {
  "kernelspec": {
   "display_name": "Python 3",
   "language": "python",
   "name": "python3"
  },
  "language_info": {
   "codemirror_mode": {
    "name": "ipython",
    "version": 3
   },
   "file_extension": ".py",
   "mimetype": "text/x-python",
   "name": "python",
   "nbconvert_exporter": "python",
   "pygments_lexer": "ipython3",
   "version": "3.4.3"
  }
 },
 "nbformat": 4,
 "nbformat_minor": 0
}
