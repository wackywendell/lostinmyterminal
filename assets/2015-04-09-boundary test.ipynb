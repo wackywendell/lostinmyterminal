{
 "cells": [
  {
   "cell_type": "code",
   "execution_count": 3,
   "metadata": {
    "collapsed": true
   },
   "outputs": [],
   "source": [
    "import numpy as np"
   ]
  },
  {
   "cell_type": "code",
   "execution_count": 10,
   "metadata": {
    "collapsed": true
   },
   "outputs": [],
   "source": [
    "def dists(rs, L):\n",
    "    \"\"\"\n",
    "    Returns the difference vectors between all pairs of points in rs, given a periodic box of size L.\n",
    "    \n",
    "    Parameters\n",
    "    ----------\n",
    "    rs : (N,d) array_like\n",
    "         Input vectors\n",
    "    L : (d,) array_like, or scalar\n",
    "    Size of the box\n",
    "    \n",
    "    Returns\n",
    "    -------\n",
    "    out : (N,N,d) ndarray\n",
    "    Where out[i,j,:] is the difference vector between rs[i,:] and rs[j,:]\n",
    "    \"\"\"\n",
    "    diffs = np.array([np.subtract.outer(rd, rd) for rd in rs.T]).T\n",
    "    return np.remainder(diffs + L/2., L) - L/2."
   ]
  },
  {
   "cell_type": "code",
   "execution_count": 11,
   "metadata": {
    "collapsed": false
   },
   "outputs": [
    {
     "data": {
      "text/plain": [
       "0.7848158551810237"
      ]
     },
     "execution_count": 11,
     "metadata": {},
     "output_type": "execute_result"
    }
   ],
   "source": [
    "N, L = 800, 2\n",
    "d = np.random.uniform(high=L, size=(N,2))\n",
    "dfs = dists(d, L)\n",
    "drs = np.sqrt(np.sum(dfs**2, axis=-1))\n",
    "np.sum(drs[np.triu_indices_from(drs)] < 1) / (N*(N+1)//2)"
   ]
  },
  {
   "cell_type": "code",
   "execution_count": 12,
   "metadata": {
    "collapsed": false
   },
   "outputs": [
    {
     "name": "stdout",
     "output_type": "stream",
     "text": [
      "(800, 2) (800, 800, 2)\n"
     ]
    }
   ],
   "source": [
    "print(d.shape, dfs.shape)"
   ]
  },
  {
   "cell_type": "code",
   "execution_count": 13,
   "metadata": {
    "collapsed": false
   },
   "outputs": [
    {
     "data": {
      "text/plain": [
       "(320400,)"
      ]
     },
     "execution_count": 13,
     "metadata": {},
     "output_type": "execute_result"
    }
   ],
   "source": [
    "drs[np.triu_indices_from(drs)].shape"
   ]
  },
  {
   "cell_type": "code",
   "execution_count": 14,
   "metadata": {
    "collapsed": false
   },
   "outputs": [
    {
     "name": "stdout",
     "output_type": "stream",
     "text": [
      "1 loops, best of 1: 1.33 s per loop\n"
     ]
    }
   ],
   "source": [
    "%%timeit -n 1 -r 1\n",
    "N = 200\n",
    "d = 3\n",
    "L = 2.0\n",
    "Nruns = 500\n",
    "\n",
    "in_disk = np.zeros(Nruns)\n",
    "for i in range(Nruns):\n",
    "    rs = np.random.uniform(size=(N,d), high=(L*2))\n",
    "    diffs = dists(rs, L)\n",
    "    drs = np.sqrt(np.sum(diffs**2, axis=-1))\n",
    "    #in_disk[i] = np.sum(drs[np.triu_indices_from(drs)] < 1)\n",
    "    in_disk[i] = (np.sum(drs < 1) - N) / 2"
   ]
  },
  {
   "cell_type": "code",
   "execution_count": 44,
   "metadata": {
    "collapsed": false
   },
   "outputs": [],
   "source": [
    "def dists2(rs, L):\n",
    "    \"\"\"\n",
    "    Returns the difference vectors between all pairs of points in rs, given a periodic box of size L.\n",
    "    \n",
    "    Parameters\n",
    "    ----------\n",
    "    rs : (N,d) array_like\n",
    "         Input vectors\n",
    "    L : (d,) array_like, or scalar\n",
    "    Size of the box\n",
    "    \n",
    "    Returns\n",
    "    -------\n",
    "    out : (N,N,d) ndarray\n",
    "    Where out[i,j,:] is the difference vector between rs[i,:] and rs[j,:]\n",
    "    \"\"\"\n",
    "    N,d = np.shape(rs)\n",
    "    diffs = np.zeros((N,N,d))\n",
    "    for i,rd in enumerate(rs.T):\n",
    "        np.subtract.outer(rd, rd, out=diffs[:,:,i])\n",
    "    return np.remainder(diffs + L/2., L) - L/2."
   ]
  },
  {
   "cell_type": "code",
   "execution_count": 16,
   "metadata": {
    "collapsed": false,
    "scrolled": true
   },
   "outputs": [
    {
     "name": "stdout",
     "output_type": "stream",
     "text": [
      "1000 loops, best of 3: 511 µs per loop\n"
     ]
    }
   ],
   "source": [
    "%%timeit rs = np.random.uniform(size=(100,3), high=(4.0))\n",
    "diffs = dists(rs, 2.0)"
   ]
  },
  {
   "cell_type": "code",
   "execution_count": 29,
   "metadata": {
    "collapsed": false
   },
   "outputs": [
    {
     "name": "stdout",
     "output_type": "stream",
     "text": [
      "1000 loops, best of 3: 617 µs per loop\n"
     ]
    }
   ],
   "source": [
    "%%timeit rs = np.random.uniform(size=(100,3), high=(4.0))\n",
    "diffs = dists2(rs, 2.0)"
   ]
  },
  {
   "cell_type": "code",
   "execution_count": 45,
   "metadata": {
    "collapsed": true
   },
   "outputs": [],
   "source": [
    "def dists3(rs, L):\n",
    "    \"\"\"\n",
    "    Returns the difference vectors between all pairs of points in rs, given a periodic box of size L.\n",
    "    \n",
    "    Parameters\n",
    "    ----------\n",
    "    rs : (N,d) array_like\n",
    "         Input vectors\n",
    "    L : (d,) array_like, or scalar\n",
    "    Size of the box\n",
    "    \n",
    "    Returns\n",
    "    -------\n",
    "    out : (N,d,N) ndarray\n",
    "    Where out[i,:,j] is the difference vector between rs[i,:] and rs[j,:]\n",
    "    \"\"\"\n",
    "    N,d = np.shape(rs)\n",
    "    diffs = rs[..., np.newaxis] - rs.T[np.newaxis, ...]\n",
    "    diffs = np.rollaxis(diffs, -1, -2)\n",
    "    return np.remainder(diffs + L/2., L) - L/2."
   ]
  },
  {
   "cell_type": "code",
   "execution_count": 46,
   "metadata": {
    "collapsed": false
   },
   "outputs": [
    {
     "name": "stdout",
     "output_type": "stream",
     "text": [
      "1000 loops, best of 3: 614 µs per loop\n"
     ]
    }
   ],
   "source": [
    "%%timeit rs = np.random.uniform(size=(100,3), high=(4.0))\n",
    "diffs = dists3(rs, 2.0)"
   ]
  },
  {
   "cell_type": "code",
   "execution_count": 48,
   "metadata": {
    "collapsed": false
   },
   "outputs": [
    {
     "data": {
      "text/plain": [
       "True"
      ]
     },
     "execution_count": 48,
     "metadata": {},
     "output_type": "execute_result"
    }
   ],
   "source": [
    "np.allclose(dists2(d, 2.0), dists3(d, 2.0))"
   ]
  },
  {
   "cell_type": "code",
   "execution_count": 38,
   "metadata": {
    "collapsed": false
   },
   "outputs": [],
   "source": [
    "diffs = d[..., np.newaxis] - d.T[np.newaxis, ...]\n",
    "diffs.shape\n",
    "np.rollaxis?"
   ]
  },
  {
   "cell_type": "code",
   "execution_count": 24,
   "metadata": {
    "collapsed": false
   },
   "outputs": [],
   "source": [
    "rx = d[..., np.newaxis]"
   ]
  },
  {
   "cell_type": "code",
   "execution_count": 35,
   "metadata": {
    "collapsed": false
   },
   "outputs": [
    {
     "ename": "ValueError",
     "evalue": "operands could not be broadcast together with shapes (800,2,800) (2,) ",
     "output_type": "error",
     "traceback": [
      "\u001b[1;31m---------------------------------------------------------------------------\u001b[0m",
      "\u001b[1;31mValueError\u001b[0m                                Traceback (most recent call last)",
      "\u001b[1;32m<ipython-input-35-a9d1c31af42b>\u001b[0m in \u001b[0;36m<module>\u001b[1;34m()\u001b[0m\n\u001b[1;32m----> 1\u001b[1;33m \u001b[0mdists3\u001b[0m\u001b[1;33m(\u001b[0m\u001b[0md\u001b[0m\u001b[1;33m,\u001b[0m \u001b[0mnp\u001b[0m\u001b[1;33m.\u001b[0m\u001b[0marray\u001b[0m\u001b[1;33m(\u001b[0m\u001b[1;33m(\u001b[0m\u001b[0mL\u001b[0m\u001b[1;33m,\u001b[0m \u001b[0mL\u001b[0m\u001b[1;33m)\u001b[0m\u001b[1;33m)\u001b[0m\u001b[1;33m)\u001b[0m\u001b[1;33m\u001b[0m\u001b[0m\n\u001b[0m",
      "\u001b[1;32m<ipython-input-30-e321f26d90ce>\u001b[0m in \u001b[0;36mdists3\u001b[1;34m(rs, L)\u001b[0m\n\u001b[0;32m     17\u001b[0m     \u001b[0mN\u001b[0m\u001b[1;33m,\u001b[0m\u001b[0md\u001b[0m \u001b[1;33m=\u001b[0m \u001b[0mnp\u001b[0m\u001b[1;33m.\u001b[0m\u001b[0mshape\u001b[0m\u001b[1;33m(\u001b[0m\u001b[0mrs\u001b[0m\u001b[1;33m)\u001b[0m\u001b[1;33m\u001b[0m\u001b[0m\n\u001b[0;32m     18\u001b[0m     \u001b[0mdiffs\u001b[0m \u001b[1;33m=\u001b[0m \u001b[0mrs\u001b[0m\u001b[1;33m[\u001b[0m\u001b[1;33m...\u001b[0m\u001b[1;33m,\u001b[0m \u001b[0mnp\u001b[0m\u001b[1;33m.\u001b[0m\u001b[0mnewaxis\u001b[0m\u001b[1;33m]\u001b[0m \u001b[1;33m-\u001b[0m \u001b[0mrs\u001b[0m\u001b[1;33m.\u001b[0m\u001b[0mT\u001b[0m\u001b[1;33m[\u001b[0m\u001b[0mnp\u001b[0m\u001b[1;33m.\u001b[0m\u001b[0mnewaxis\u001b[0m\u001b[1;33m,\u001b[0m \u001b[1;33m...\u001b[0m\u001b[1;33m]\u001b[0m\u001b[1;33m\u001b[0m\u001b[0m\n\u001b[1;32m---> 19\u001b[1;33m     \u001b[1;32mreturn\u001b[0m \u001b[0mnp\u001b[0m\u001b[1;33m.\u001b[0m\u001b[0mremainder\u001b[0m\u001b[1;33m(\u001b[0m\u001b[0mdiffs\u001b[0m \u001b[1;33m+\u001b[0m \u001b[0mL\u001b[0m\u001b[1;33m/\u001b[0m\u001b[1;36m2.\u001b[0m\u001b[1;33m,\u001b[0m \u001b[0mL\u001b[0m\u001b[1;33m)\u001b[0m \u001b[1;33m-\u001b[0m \u001b[0mL\u001b[0m\u001b[1;33m/\u001b[0m\u001b[1;36m2.\u001b[0m\u001b[1;33m\u001b[0m\u001b[0m\n\u001b[0m",
      "\u001b[1;31mValueError\u001b[0m: operands could not be broadcast together with shapes (800,2,800) (2,) "
     ]
    }
   ],
   "source": [
    "dists3(d, np.array((L, L)))"
   ]
  },
  {
   "cell_type": "markdown",
   "metadata": {},
   "source": [
    "### Pairs of Particles"
   ]
  },
  {
   "cell_type": "code",
   "execution_count": 55,
   "metadata": {
    "collapsed": true
   },
   "outputs": [],
   "source": [
    "def pair_dists(rs1, rs2, L):\n",
    "    \"\"\"\n",
    "    Returns the difference vectors between all pairs of points in rs1 and rs2, given a periodic box of size L.\n",
    "    \n",
    "    Parameters\n",
    "    ----------\n",
    "    rs1 : (N,d) array_like\n",
    "         Input vectors\n",
    "    rs2 : (N,d) array_like\n",
    "         Input vectors\n",
    "    L : (d,) array_like, or scalar\n",
    "        Size of the box\n",
    "    \n",
    "    Returns\n",
    "    -------\n",
    "    out : (N,N,d) ndarray\n",
    "    Where out[i,:,j] is the difference vector between rs1[i,:] and rs2[j,:]\n",
    "    \"\"\"\n",
    "    N,d = np.shape(rs)\n",
    "    diffs = rs1[..., np.newaxis] - rs2.T[np.newaxis, ...]\n",
    "    diffs = np.rollaxis(diffs, -1, -2)\n",
    "    return np.remainder(diffs + L/2., L) - L/2."
   ]
  },
  {
   "cell_type": "code",
   "execution_count": 117,
   "metadata": {
    "collapsed": true
   },
   "outputs": [],
   "source": [
    "def pair_dist(rs1, rs2, L):\n",
    "    \"\"\"\n",
    "    Returns the total distance between pairs of points in rs1 and rs2, given a \n",
    "    periodic box of size L. Ignores overall translation.\n",
    "    \n",
    "    Parameters\n",
    "    ----------\n",
    "    rs1 : (N,d) array_like\n",
    "         Input vectors\n",
    "    rs2 : (N,d) array_like\n",
    "         Input vectors\n",
    "    L : (d,) array_like, or scalar\n",
    "        Size of the box\n",
    "    \n",
    "    Returns\n",
    "    -------\n",
    "    out : sqrt(sum(r_i - s_i - delta)**2), where \"delta\" would be the\n",
    "        center-of-mass translation from r_i to s_i.\n",
    "    \"\"\"\n",
    "    dists1 = (rs1[..., np.newaxis] - rs1.T[np.newaxis, ...])\n",
    "    dists2 = (rs2[..., np.newaxis] - rs2.T[np.newaxis, ...])\n",
    "    rij_minus_sij = np.rollaxis(dists1 - dists2, -1, -2)\n",
    "    rij_minus_sij = ((rij_minus_sij + L/2.) % L) - L/2.\n",
    "    dist_sqs = np.triu(np.sum(rij_minus_sij**2, axis=-1))\n",
    "    return np.sqrt(np.sum(dist_sqs) / len(rs1))"
   ]
  },
  {
   "cell_type": "code",
   "execution_count": 118,
   "metadata": {
    "collapsed": true
   },
   "outputs": [],
   "source": [
    "L = 4\n",
    "N = 20\n",
    "d = 3\n",
    "jitter = 0.1\n",
    "rs = np.random.uniform(0.0, L, size=(N,d))\n",
    "diffs = np.random.uniform(-jitter, jitter, size=(N,d))\n",
    "diffs -= np.mean(diffs, axis=0)\n",
    "rs2 = (rs + diffs) % L"
   ]
  },
  {
   "cell_type": "code",
   "execution_count": 119,
   "metadata": {
    "collapsed": false
   },
   "outputs": [
    {
     "data": {
      "text/plain": [
       "0.46390270838165865"
      ]
     },
     "execution_count": 119,
     "metadata": {},
     "output_type": "execute_result"
    }
   ],
   "source": [
    "# Actual distance\n",
    "diffs = np.sum(pair_dists(rs, rs2, L)**2, axis=-1)\n",
    "np.sqrt(np.trace(diffs))"
   ]
  },
  {
   "cell_type": "code",
   "execution_count": 120,
   "metadata": {
    "collapsed": false
   },
   "outputs": [
    {
     "data": {
      "text/plain": [
       "0.46390270838165865"
      ]
     },
     "execution_count": 120,
     "metadata": {},
     "output_type": "execute_result"
    }
   ],
   "source": [
    "# Distance minus translations\n",
    "pair_dist(rs, rs2, L)"
   ]
  }
 ],
 "metadata": {
  "kernelspec": {
   "display_name": "Python 3",
   "language": "python",
   "name": "python3"
  },
  "language_info": {
   "codemirror_mode": {
    "name": "ipython",
    "version": 3
   },
   "file_extension": ".py",
   "mimetype": "text/x-python",
   "name": "python",
   "nbconvert_exporter": "python",
   "pygments_lexer": "ipython3",
   "version": "3.5.0"
  }
 },
 "nbformat": 4,
 "nbformat_minor": 0
}
